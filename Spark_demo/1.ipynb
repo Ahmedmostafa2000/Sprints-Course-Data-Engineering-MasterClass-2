{
 "cells": [
  {
   "cell_type": "code",
   "execution_count": 0,
   "metadata": {
    "application/vnd.databricks.v1+cell": {
     "cellMetadata": {
      "byteLimit": 2048000,
      "rowLimit": 10000
     },
     "inputWidgets": {},
     "nuid": "e0b9567b-4596-46b6-a052-2f0598eee0e0",
     "showTitle": false,
     "title": ""
    }
   },
   "outputs": [
    {
     "output_type": "stream",
     "name": "stdout",
     "output_type": "stream",
     "text": [
      "Hello\n"
     ]
    }
   ],
   "source": [
    "print(\"Hello\")"
   ]
  },
  {
   "cell_type": "code",
   "execution_count": 0,
   "metadata": {
    "application/vnd.databricks.v1+cell": {
     "cellMetadata": {
      "byteLimit": 2048000,
      "rowLimit": 10000
     },
     "inputWidgets": {},
     "nuid": "615ae1b3-bfdf-4ff2-9b79-0682bd7f0cdf",
     "showTitle": false,
     "title": ""
    }
   },
   "outputs": [],
   "source": [
    "text = spark.read.text(\"/databricks-datasets/samples/docs/README.md\")"
   ]
  },
  {
   "cell_type": "code",
   "execution_count": 0,
   "metadata": {
    "application/vnd.databricks.v1+cell": {
     "cellMetadata": {
      "byteLimit": 2048000,
      "rowLimit": 10000
     },
     "inputWidgets": {},
     "nuid": "5d90bbf4-6ee8-4a56-a4c4-54d7150bf6f1",
     "showTitle": false,
     "title": ""
    }
   },
   "outputs": [
    {
     "output_type": "stream",
     "name": "stdout",
     "output_type": "stream",
     "text": [
      "Out[5]: 65"
     ]
    }
   ],
   "source": [
    "text.count()"
   ]
  },
  {
   "cell_type": "code",
   "execution_count": 0,
   "metadata": {
    "application/vnd.databricks.v1+cell": {
     "cellMetadata": {
      "byteLimit": 2048000,
      "rowLimit": 10000
     },
     "inputWidgets": {},
     "nuid": "55ffc854-38e6-4b8c-8948-86a92962e995",
     "showTitle": false,
     "title": ""
    }
   },
   "outputs": [],
   "source": [
    "data = spark.read.format(\"csv\")\\\n",
    "    .option(\"header\",\"true\")\\\n",
    "    .option(\"inferschema\",\"true\")\\ #Spark chooses datatypes\n",
    "    .load(\"/databricks-datasets/samples/population-vs-price/data_geo.csv\")"
   ]
  },
  {
   "cell_type": "code",
   "execution_count": 0,
   "metadata": {
    "application/vnd.databricks.v1+cell": {
     "cellMetadata": {
      "byteLimit": 2048000,
      "rowLimit": 10000
     },
     "inputWidgets": {},
     "nuid": "0d8d03c1-ae6d-4039-8a46-82369b8e6e29",
     "showTitle": false,
     "title": ""
    }
   },
   "outputs": [
    {
     "output_type": "stream",
     "name": "stdout",
     "output_type": "stream",
     "text": [
      "Out[7]: 294"
     ]
    }
   ],
   "source": [
    "data.count()"
   ]
  },
  {
   "cell_type": "code",
   "execution_count": 0,
   "metadata": {
    "application/vnd.databricks.v1+cell": {
     "cellMetadata": {
      "byteLimit": 2048000,
      "rowLimit": 10000
     },
     "inputWidgets": {},
     "nuid": "add3cc34-5a45-4594-9dd3-24a3f5dce9c7",
     "showTitle": false,
     "title": ""
    }
   },
   "outputs": [
    {
     "output_type": "stream",
     "name": "stdout",
     "output_type": "stream",
     "text": [
      "Out[8]: 109"
     ]
    }
   ],
   "source": [
    "data.cache()\n",
    "data = data.dropna()\n",
    "data.count()"
   ]
  },
  {
   "cell_type": "code",
   "execution_count": 0,
   "metadata": {
    "application/vnd.databricks.v1+cell": {
     "cellMetadata": {
      "byteLimit": 2048000,
      "rowLimit": 10000
     },
     "inputWidgets": {},
     "nuid": "7e554167-c264-4c19-9c54-e5aa753594b1",
     "showTitle": false,
     "title": ""
    }
   },
   "outputs": [
    {
     "output_type": "display_data",
     "data": {
      "text/html": [
       "<style scoped>\n",
       "  .table-result-container {\n",
       "    max-height: 300px;\n",
       "    overflow: auto;\n",
       "  }\n",
       "  table, th, td {\n",
       "    border: 1px solid black;\n",
       "    border-collapse: collapse;\n",
       "  }\n",
       "  th, td {\n",
       "    padding: 5px;\n",
       "  }\n",
       "  th {\n",
       "    text-align: left;\n",
       "  }\n",
       "</style><div class='table-result-container'><table class='table-result'><thead style='background-color: white'><tr><th>2014 rank</th><th>City</th><th>State</th><th>State Code</th><th>2014 Population estimate</th><th>2015 median sales price</th></tr></thead><tbody><tr><td>101</td><td>Birmingham</td><td>Alabama</td><td>AL</td><td>212247</td><td>162.9</td></tr><tr><td>125</td><td>Huntsville</td><td>Alabama</td><td>AL</td><td>188226</td><td>157.7</td></tr><tr><td>122</td><td>Mobile</td><td>Alabama</td><td>AL</td><td>194675</td><td>122.5</td></tr><tr><td>114</td><td>Montgomery</td><td>Alabama</td><td>AL</td><td>200481</td><td>129.0</td></tr><tr><td>6</td><td>Phoenix</td><td>Arizona</td><td>AZ</td><td>1537058</td><td>206.1</td></tr><tr><td>33</td><td>Tucson</td><td>Arizona</td><td>AZ</td><td>527972</td><td>178.1</td></tr><tr><td>119</td><td>Little Rock</td><td>Arkansas</td><td>AR</td><td>197706</td><td>131.8</td></tr><tr><td>56</td><td>Anaheim</td><td>California</td><td>CA</td><td>346997</td><td>685.7</td></tr><tr><td>2</td><td>Los Angeles</td><td>California</td><td>CA</td><td>3928864</td><td>434.7</td></tr><tr><td>59</td><td>Riverside</td><td>California</td><td>CA</td><td>319504</td><td>281.0</td></tr></tbody></table></div>"
      ]
     },
     "metadata": {
      "application/vnd.databricks.v1+output": {
       "addedWidgets": {},
       "aggData": [],
       "aggError": "",
       "aggOverflow": false,
       "aggSchema": [],
       "aggSeriesLimitReached": false,
       "aggType": "",
       "arguments": {},
       "columnCustomDisplayInfos": {},
       "data": [
        [
         101,
         "Birmingham",
         "Alabama",
         "AL",
         212247,
         162.9
        ],
        [
         125,
         "Huntsville",
         "Alabama",
         "AL",
         188226,
         157.7
        ],
        [
         122,
         "Mobile",
         "Alabama",
         "AL",
         194675,
         122.5
        ],
        [
         114,
         "Montgomery",
         "Alabama",
         "AL",
         200481,
         129.0
        ],
        [
         6,
         "Phoenix",
         "Arizona",
         "AZ",
         1537058,
         206.1
        ],
        [
         33,
         "Tucson",
         "Arizona",
         "AZ",
         527972,
         178.1
        ],
        [
         119,
         "Little Rock",
         "Arkansas",
         "AR",
         197706,
         131.8
        ],
        [
         56,
         "Anaheim",
         "California",
         "CA",
         346997,
         685.7
        ],
        [
         2,
         "Los Angeles",
         "California",
         "CA",
         3928864,
         434.7
        ],
        [
         59,
         "Riverside",
         "California",
         "CA",
         319504,
         281.0
        ]
       ],
       "datasetInfos": [],
       "dbfsResultPath": null,
       "isJsonSchema": true,
       "metadata": {},
       "overflow": false,
       "plotOptions": {
        "customPlotOptions": {},
        "displayType": "table",
        "pivotAggregation": null,
        "pivotColumns": null,
        "xColumns": null,
        "yColumns": null
       },
       "removedWidgets": [],
       "schema": [
        {
         "metadata": "{}",
         "name": "2014 rank",
         "type": "\"long\""
        },
        {
         "metadata": "{}",
         "name": "City",
         "type": "\"string\""
        },
        {
         "metadata": "{}",
         "name": "State",
         "type": "\"string\""
        },
        {
         "metadata": "{}",
         "name": "State Code",
         "type": "\"string\""
        },
        {
         "metadata": "{}",
         "name": "2014 Population estimate",
         "type": "\"long\""
        },
        {
         "metadata": "{}",
         "name": "2015 median sales price",
         "type": "\"double\""
        }
       ],
       "type": "table"
      }
     },
     "output_type": "display_data"
    }
   ],
   "source": [
    "display(data.take(10)) #display is only for testing"
   ]
  },
  {
   "cell_type": "code",
   "execution_count": 0,
   "metadata": {
    "application/vnd.databricks.v1+cell": {
     "cellMetadata": {
      "byteLimit": 2048000,
      "rowLimit": 10000
     },
     "inputWidgets": {},
     "nuid": "b9c274b8-1d24-48ec-ab5e-3e2939301881",
     "showTitle": false,
     "title": ""
    }
   },
   "outputs": [],
   "source": [
    "data.createOrReplaceTempView(\"data2\")"
   ]
  },
  {
   "cell_type": "code",
   "execution_count": 0,
   "metadata": {
    "application/vnd.databricks.v1+cell": {
     "cellMetadata": {
      "byteLimit": 2048000,
      "implicitDf": true,
      "rowLimit": 10000
     },
     "inputWidgets": {},
     "nuid": "e7c18159-c933-4f5a-91a0-c0e9b5ac5dee",
     "showTitle": false,
     "title": ""
    }
   },
   "outputs": [
    {
     "output_type": "display_data",
     "data": {
      "text/html": [
       "<style scoped>\n",
       "  .table-result-container {\n",
       "    max-height: 300px;\n",
       "    overflow: auto;\n",
       "  }\n",
       "  table, th, td {\n",
       "    border: 1px solid black;\n",
       "    border-collapse: collapse;\n",
       "  }\n",
       "  th, td {\n",
       "    padding: 5px;\n",
       "  }\n",
       "  th {\n",
       "    text-align: left;\n",
       "  }\n",
       "</style><div class='table-result-container'><table class='table-result'><thead style='background-color: white'><tr><th>City</th><th>State</th></tr></thead><tbody><tr><td>Akron</td><td>Ohio</td></tr><tr><td>Cincinnati</td><td>Ohio</td></tr><tr><td>Cleveland</td><td>Ohio</td></tr><tr><td>Columbus</td><td>Ohio</td></tr><tr><td>Dayton</td><td>Ohio</td></tr><tr><td>Toledo</td><td>Ohio</td></tr></tbody></table></div>"
      ]
     },
     "metadata": {
      "application/vnd.databricks.v1+output": {
       "addedWidgets": {},
       "aggData": [],
       "aggError": "",
       "aggOverflow": false,
       "aggSchema": [],
       "aggSeriesLimitReached": false,
       "aggType": "",
       "arguments": {},
       "columnCustomDisplayInfos": {},
       "data": [
        [
         "Akron",
         "Ohio"
        ],
        [
         "Cincinnati",
         "Ohio"
        ],
        [
         "Cleveland",
         "Ohio"
        ],
        [
         "Columbus",
         "Ohio"
        ],
        [
         "Dayton",
         "Ohio"
        ],
        [
         "Toledo",
         "Ohio"
        ]
       ],
       "datasetInfos": [],
       "dbfsResultPath": null,
       "isJsonSchema": true,
       "metadata": {},
       "overflow": false,
       "plotOptions": {
        "customPlotOptions": {},
        "displayType": "table",
        "pivotAggregation": null,
        "pivotColumns": null,
        "xColumns": null,
        "yColumns": null
       },
       "removedWidgets": [],
       "schema": [
        {
         "metadata": "{}",
         "name": "City",
         "type": "\"string\""
        },
        {
         "metadata": "{}",
         "name": "State",
         "type": "\"string\""
        }
       ],
       "type": "table"
      }
     },
     "output_type": "display_data"
    }
   ],
   "source": [
    "%sql\n",
    "select City,State from data2 where State = \"Ohio\";"
   ]
  },
  {
   "cell_type": "code",
   "execution_count": 0,
   "metadata": {
    "application/vnd.databricks.v1+cell": {
     "cellMetadata": {
      "byteLimit": 2048000,
      "implicitDf": true,
      "rowLimit": 10000
     },
     "inputWidgets": {},
     "nuid": "f68e03d7-a6d4-4af2-8f9b-5c0d9b258d8e",
     "showTitle": false,
     "title": ""
    }
   },
   "outputs": [
    {
     "output_type": "display_data",
     "data": {
      "text/html": [
       "<style scoped>\n",
       "  .table-result-container {\n",
       "    max-height: 300px;\n",
       "    overflow: auto;\n",
       "  }\n",
       "  table, th, td {\n",
       "    border: 1px solid black;\n",
       "    border-collapse: collapse;\n",
       "  }\n",
       "  th, td {\n",
       "    padding: 5px;\n",
       "  }\n",
       "  th {\n",
       "    text-align: left;\n",
       "  }\n",
       "</style><div class='table-result-container'><table class='table-result'><thead style='background-color: white'><tr><th>State Code</th><th>2015 median sales price</th></tr></thead><tbody></tbody></table></div>"
      ]
     },
     "metadata": {
      "application/vnd.databricks.v1+output": {
       "addedWidgets": {},
       "aggData": [],
       "aggError": "",
       "aggOverflow": false,
       "aggSchema": [],
       "aggSeriesLimitReached": false,
       "aggType": "",
       "arguments": {},
       "columnCustomDisplayInfos": {},
       "data": [],
       "datasetInfos": [],
       "dbfsResultPath": null,
       "isJsonSchema": true,
       "metadata": {},
       "overflow": false,
       "plotOptions": {
        "customPlotOptions": {},
        "displayType": "table",
        "pivotAggregation": null,
        "pivotColumns": null,
        "xColumns": null,
        "yColumns": null
       },
       "removedWidgets": [],
       "schema": [
        {
         "metadata": "{}",
         "name": "State Code",
         "type": "\"string\""
        },
        {
         "metadata": "{}",
         "name": "2015 median sales price",
         "type": "\"string\""
        }
       ],
       "type": "table"
      }
     },
     "output_type": "display_data"
    }
   ],
   "source": [
    "%sql\n",
    "select \"State Code\",\"2015 median sales price\"\n",
    "from data2 where State = \"WA\";"
   ]
  },
  {
   "cell_type": "code",
   "execution_count": 0,
   "metadata": {
    "application/vnd.databricks.v1+cell": {
     "cellMetadata": {
      "byteLimit": 2048000,
      "implicitDf": true,
      "rowLimit": 10000
     },
     "inputWidgets": {},
     "nuid": "4c5495e1-a26c-43e6-b110-569af175d2a1",
     "showTitle": false,
     "title": ""
    }
   },
   "outputs": [
    {
     "output_type": "display_data",
     "data": {
      "text/html": [
       "<style scoped>\n",
       "  .table-result-container {\n",
       "    max-height: 300px;\n",
       "    overflow: auto;\n",
       "  }\n",
       "  table, th, td {\n",
       "    border: 1px solid black;\n",
       "    border-collapse: collapse;\n",
       "  }\n",
       "  th, td {\n",
       "    padding: 5px;\n",
       "  }\n",
       "  th {\n",
       "    text-align: left;\n",
       "  }\n",
       "</style><div class='table-result-container'><table class='table-result'><thead style='background-color: white'><tr><th>State Code</th><th>2015 median sales price</th></tr></thead><tbody><tr><td>State Code</td><td>2015 median sales price</td></tr><tr><td>State Code</td><td>2015 median sales price</td></tr><tr><td>State Code</td><td>2015 median sales price</td></tr><tr><td>State Code</td><td>2015 median sales price</td></tr><tr><td>State Code</td><td>2015 median sales price</td></tr><tr><td>State Code</td><td>2015 median sales price</td></tr><tr><td>State Code</td><td>2015 median sales price</td></tr><tr><td>State Code</td><td>2015 median sales price</td></tr><tr><td>State Code</td><td>2015 median sales price</td></tr><tr><td>State Code</td><td>2015 median sales price</td></tr><tr><td>State Code</td><td>2015 median sales price</td></tr><tr><td>State Code</td><td>2015 median sales price</td></tr><tr><td>State Code</td><td>2015 median sales price</td></tr><tr><td>State Code</td><td>2015 median sales price</td></tr><tr><td>State Code</td><td>2015 median sales price</td></tr><tr><td>State Code</td><td>2015 median sales price</td></tr><tr><td>State Code</td><td>2015 median sales price</td></tr><tr><td>State Code</td><td>2015 median sales price</td></tr><tr><td>State Code</td><td>2015 median sales price</td></tr><tr><td>State Code</td><td>2015 median sales price</td></tr><tr><td>State Code</td><td>2015 median sales price</td></tr><tr><td>State Code</td><td>2015 median sales price</td></tr><tr><td>State Code</td><td>2015 median sales price</td></tr><tr><td>State Code</td><td>2015 median sales price</td></tr><tr><td>State Code</td><td>2015 median sales price</td></tr><tr><td>State Code</td><td>2015 median sales price</td></tr><tr><td>State Code</td><td>2015 median sales price</td></tr><tr><td>State Code</td><td>2015 median sales price</td></tr><tr><td>State Code</td><td>2015 median sales price</td></tr><tr><td>State Code</td><td>2015 median sales price</td></tr><tr><td>State Code</td><td>2015 median sales price</td></tr><tr><td>State Code</td><td>2015 median sales price</td></tr><tr><td>State Code</td><td>2015 median sales price</td></tr><tr><td>State Code</td><td>2015 median sales price</td></tr><tr><td>State Code</td><td>2015 median sales price</td></tr><tr><td>State Code</td><td>2015 median sales price</td></tr><tr><td>State Code</td><td>2015 median sales price</td></tr><tr><td>State Code</td><td>2015 median sales price</td></tr><tr><td>State Code</td><td>2015 median sales price</td></tr><tr><td>State Code</td><td>2015 median sales price</td></tr><tr><td>State Code</td><td>2015 median sales price</td></tr><tr><td>State Code</td><td>2015 median sales price</td></tr><tr><td>State Code</td><td>2015 median sales price</td></tr><tr><td>State Code</td><td>2015 median sales price</td></tr><tr><td>State Code</td><td>2015 median sales price</td></tr><tr><td>State Code</td><td>2015 median sales price</td></tr><tr><td>State Code</td><td>2015 median sales price</td></tr><tr><td>State Code</td><td>2015 median sales price</td></tr><tr><td>State Code</td><td>2015 median sales price</td></tr><tr><td>State Code</td><td>2015 median sales price</td></tr><tr><td>State Code</td><td>2015 median sales price</td></tr><tr><td>State Code</td><td>2015 median sales price</td></tr><tr><td>State Code</td><td>2015 median sales price</td></tr><tr><td>State Code</td><td>2015 median sales price</td></tr><tr><td>State Code</td><td>2015 median sales price</td></tr><tr><td>State Code</td><td>2015 median sales price</td></tr><tr><td>State Code</td><td>2015 median sales price</td></tr><tr><td>State Code</td><td>2015 median sales price</td></tr><tr><td>State Code</td><td>2015 median sales price</td></tr><tr><td>State Code</td><td>2015 median sales price</td></tr><tr><td>State Code</td><td>2015 median sales price</td></tr><tr><td>State Code</td><td>2015 median sales price</td></tr><tr><td>State Code</td><td>2015 median sales price</td></tr><tr><td>State Code</td><td>2015 median sales price</td></tr><tr><td>State Code</td><td>2015 median sales price</td></tr><tr><td>State Code</td><td>2015 median sales price</td></tr><tr><td>State Code</td><td>2015 median sales price</td></tr><tr><td>State Code</td><td>2015 median sales price</td></tr><tr><td>State Code</td><td>2015 median sales price</td></tr><tr><td>State Code</td><td>2015 median sales price</td></tr><tr><td>State Code</td><td>2015 median sales price</td></tr><tr><td>State Code</td><td>2015 median sales price</td></tr><tr><td>State Code</td><td>2015 median sales price</td></tr><tr><td>State Code</td><td>2015 median sales price</td></tr><tr><td>State Code</td><td>2015 median sales price</td></tr><tr><td>State Code</td><td>2015 median sales price</td></tr><tr><td>State Code</td><td>2015 median sales price</td></tr><tr><td>State Code</td><td>2015 median sales price</td></tr><tr><td>State Code</td><td>2015 median sales price</td></tr><tr><td>State Code</td><td>2015 median sales price</td></tr><tr><td>State Code</td><td>2015 median sales price</td></tr><tr><td>State Code</td><td>2015 median sales price</td></tr><tr><td>State Code</td><td>2015 median sales price</td></tr><tr><td>State Code</td><td>2015 median sales price</td></tr><tr><td>State Code</td><td>2015 median sales price</td></tr><tr><td>State Code</td><td>2015 median sales price</td></tr><tr><td>State Code</td><td>2015 median sales price</td></tr><tr><td>State Code</td><td>2015 median sales price</td></tr><tr><td>State Code</td><td>2015 median sales price</td></tr><tr><td>State Code</td><td>2015 median sales price</td></tr><tr><td>State Code</td><td>2015 median sales price</td></tr><tr><td>State Code</td><td>2015 median sales price</td></tr><tr><td>State Code</td><td>2015 median sales price</td></tr><tr><td>State Code</td><td>2015 median sales price</td></tr><tr><td>State Code</td><td>2015 median sales price</td></tr><tr><td>State Code</td><td>2015 median sales price</td></tr><tr><td>State Code</td><td>2015 median sales price</td></tr><tr><td>State Code</td><td>2015 median sales price</td></tr><tr><td>State Code</td><td>2015 median sales price</td></tr><tr><td>State Code</td><td>2015 median sales price</td></tr><tr><td>State Code</td><td>2015 median sales price</td></tr><tr><td>State Code</td><td>2015 median sales price</td></tr><tr><td>State Code</td><td>2015 median sales price</td></tr><tr><td>State Code</td><td>2015 median sales price</td></tr><tr><td>State Code</td><td>2015 median sales price</td></tr><tr><td>State Code</td><td>2015 median sales price</td></tr><tr><td>State Code</td><td>2015 median sales price</td></tr><tr><td>State Code</td><td>2015 median sales price</td></tr><tr><td>State Code</td><td>2015 median sales price</td></tr></tbody></table></div>"
      ]
     },
     "metadata": {
      "application/vnd.databricks.v1+output": {
       "addedWidgets": {},
       "aggData": [],
       "aggError": "",
       "aggOverflow": false,
       "aggSchema": [],
       "aggSeriesLimitReached": false,
       "aggType": "",
       "arguments": {},
       "columnCustomDisplayInfos": {},
       "data": [
        [
         "State Code",
         "2015 median sales price"
        ],
        [
         "State Code",
         "2015 median sales price"
        ],
        [
         "State Code",
         "2015 median sales price"
        ],
        [
         "State Code",
         "2015 median sales price"
        ],
        [
         "State Code",
         "2015 median sales price"
        ],
        [
         "State Code",
         "2015 median sales price"
        ],
        [
         "State Code",
         "2015 median sales price"
        ],
        [
         "State Code",
         "2015 median sales price"
        ],
        [
         "State Code",
         "2015 median sales price"
        ],
        [
         "State Code",
         "2015 median sales price"
        ],
        [
         "State Code",
         "2015 median sales price"
        ],
        [
         "State Code",
         "2015 median sales price"
        ],
        [
         "State Code",
         "2015 median sales price"
        ],
        [
         "State Code",
         "2015 median sales price"
        ],
        [
         "State Code",
         "2015 median sales price"
        ],
        [
         "State Code",
         "2015 median sales price"
        ],
        [
         "State Code",
         "2015 median sales price"
        ],
        [
         "State Code",
         "2015 median sales price"
        ],
        [
         "State Code",
         "2015 median sales price"
        ],
        [
         "State Code",
         "2015 median sales price"
        ],
        [
         "State Code",
         "2015 median sales price"
        ],
        [
         "State Code",
         "2015 median sales price"
        ],
        [
         "State Code",
         "2015 median sales price"
        ],
        [
         "State Code",
         "2015 median sales price"
        ],
        [
         "State Code",
         "2015 median sales price"
        ],
        [
         "State Code",
         "2015 median sales price"
        ],
        [
         "State Code",
         "2015 median sales price"
        ],
        [
         "State Code",
         "2015 median sales price"
        ],
        [
         "State Code",
         "2015 median sales price"
        ],
        [
         "State Code",
         "2015 median sales price"
        ],
        [
         "State Code",
         "2015 median sales price"
        ],
        [
         "State Code",
         "2015 median sales price"
        ],
        [
         "State Code",
         "2015 median sales price"
        ],
        [
         "State Code",
         "2015 median sales price"
        ],
        [
         "State Code",
         "2015 median sales price"
        ],
        [
         "State Code",
         "2015 median sales price"
        ],
        [
         "State Code",
         "2015 median sales price"
        ],
        [
         "State Code",
         "2015 median sales price"
        ],
        [
         "State Code",
         "2015 median sales price"
        ],
        [
         "State Code",
         "2015 median sales price"
        ],
        [
         "State Code",
         "2015 median sales price"
        ],
        [
         "State Code",
         "2015 median sales price"
        ],
        [
         "State Code",
         "2015 median sales price"
        ],
        [
         "State Code",
         "2015 median sales price"
        ],
        [
         "State Code",
         "2015 median sales price"
        ],
        [
         "State Code",
         "2015 median sales price"
        ],
        [
         "State Code",
         "2015 median sales price"
        ],
        [
         "State Code",
         "2015 median sales price"
        ],
        [
         "State Code",
         "2015 median sales price"
        ],
        [
         "State Code",
         "2015 median sales price"
        ],
        [
         "State Code",
         "2015 median sales price"
        ],
        [
         "State Code",
         "2015 median sales price"
        ],
        [
         "State Code",
         "2015 median sales price"
        ],
        [
         "State Code",
         "2015 median sales price"
        ],
        [
         "State Code",
         "2015 median sales price"
        ],
        [
         "State Code",
         "2015 median sales price"
        ],
        [
         "State Code",
         "2015 median sales price"
        ],
        [
         "State Code",
         "2015 median sales price"
        ],
        [
         "State Code",
         "2015 median sales price"
        ],
        [
         "State Code",
         "2015 median sales price"
        ],
        [
         "State Code",
         "2015 median sales price"
        ],
        [
         "State Code",
         "2015 median sales price"
        ],
        [
         "State Code",
         "2015 median sales price"
        ],
        [
         "State Code",
         "2015 median sales price"
        ],
        [
         "State Code",
         "2015 median sales price"
        ],
        [
         "State Code",
         "2015 median sales price"
        ],
        [
         "State Code",
         "2015 median sales price"
        ],
        [
         "State Code",
         "2015 median sales price"
        ],
        [
         "State Code",
         "2015 median sales price"
        ],
        [
         "State Code",
         "2015 median sales price"
        ],
        [
         "State Code",
         "2015 median sales price"
        ],
        [
         "State Code",
         "2015 median sales price"
        ],
        [
         "State Code",
         "2015 median sales price"
        ],
        [
         "State Code",
         "2015 median sales price"
        ],
        [
         "State Code",
         "2015 median sales price"
        ],
        [
         "State Code",
         "2015 median sales price"
        ],
        [
         "State Code",
         "2015 median sales price"
        ],
        [
         "State Code",
         "2015 median sales price"
        ],
        [
         "State Code",
         "2015 median sales price"
        ],
        [
         "State Code",
         "2015 median sales price"
        ],
        [
         "State Code",
         "2015 median sales price"
        ],
        [
         "State Code",
         "2015 median sales price"
        ],
        [
         "State Code",
         "2015 median sales price"
        ],
        [
         "State Code",
         "2015 median sales price"
        ],
        [
         "State Code",
         "2015 median sales price"
        ],
        [
         "State Code",
         "2015 median sales price"
        ],
        [
         "State Code",
         "2015 median sales price"
        ],
        [
         "State Code",
         "2015 median sales price"
        ],
        [
         "State Code",
         "2015 median sales price"
        ],
        [
         "State Code",
         "2015 median sales price"
        ],
        [
         "State Code",
         "2015 median sales price"
        ],
        [
         "State Code",
         "2015 median sales price"
        ],
        [
         "State Code",
         "2015 median sales price"
        ],
        [
         "State Code",
         "2015 median sales price"
        ],
        [
         "State Code",
         "2015 median sales price"
        ],
        [
         "State Code",
         "2015 median sales price"
        ],
        [
         "State Code",
         "2015 median sales price"
        ],
        [
         "State Code",
         "2015 median sales price"
        ],
        [
         "State Code",
         "2015 median sales price"
        ],
        [
         "State Code",
         "2015 median sales price"
        ],
        [
         "State Code",
         "2015 median sales price"
        ],
        [
         "State Code",
         "2015 median sales price"
        ],
        [
         "State Code",
         "2015 median sales price"
        ],
        [
         "State Code",
         "2015 median sales price"
        ],
        [
         "State Code",
         "2015 median sales price"
        ],
        [
         "State Code",
         "2015 median sales price"
        ],
        [
         "State Code",
         "2015 median sales price"
        ],
        [
         "State Code",
         "2015 median sales price"
        ],
        [
         "State Code",
         "2015 median sales price"
        ]
       ],
       "datasetInfos": [],
       "dbfsResultPath": null,
       "isJsonSchema": true,
       "metadata": {},
       "overflow": false,
       "plotOptions": {
        "customPlotOptions": {},
        "displayType": "table",
        "pivotAggregation": null,
        "pivotColumns": null,
        "xColumns": null,
        "yColumns": null
       },
       "removedWidgets": [],
       "schema": [
        {
         "metadata": "{}",
         "name": "State Code",
         "type": "\"string\""
        },
        {
         "metadata": "{}",
         "name": "2015 median sales price",
         "type": "\"string\""
        }
       ],
       "type": "table"
      }
     },
     "output_type": "display_data"
    }
   ],
   "source": [
    "%sql\n",
    "select \"State Code\",\"2015 median sales price\"\n",
    "from data2;"
   ]
  },
  {
   "cell_type": "code",
   "execution_count": 0,
   "metadata": {
    "application/vnd.databricks.v1+cell": {
     "cellMetadata": {},
     "inputWidgets": {},
     "nuid": "32fd94fe-2823-4e2b-8114-94987ed715c1",
     "showTitle": false,
     "title": ""
    }
   },
   "outputs": [],
   "source": [
    "A"
   ]
  }
 ],
 "metadata": {
  "application/vnd.databricks.v1+notebook": {
   "dashboards": [],
   "language": "python",
   "notebookMetadata": {
    "mostRecentlyExecutedCommandWithImplicitDF": {
     "commandId": 1670678674487012,
     "dataframes": [
      "_sqldf"
     ]
    },
    "pythonIndentUnit": 4
   },
   "notebookName": "1",
   "widgets": {}
  }
 },
 "nbformat": 4,
 "nbformat_minor": 0
}
