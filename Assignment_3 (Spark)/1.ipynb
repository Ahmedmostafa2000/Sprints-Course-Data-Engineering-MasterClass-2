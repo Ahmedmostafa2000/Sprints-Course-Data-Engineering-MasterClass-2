{
 "cells": [
  {
   "cell_type": "code",
   "execution_count": 0,
   "metadata": {
    "application/vnd.databricks.v1+cell": {
     "cellMetadata": {
      "byteLimit": 2048000,
      "rowLimit": 10000
     },
     "inputWidgets": {},
     "nuid": "55ffc854-38e6-4b8c-8948-86a92962e995",
     "showTitle": false,
     "title": ""
    }
   },
   "outputs": [],
   "source": [
    "data = spark.read.format(\"csv\")\\\n",
    "    .option(\"header\",\"true\")\\\n",
    "    .option(\"inferschema\",\"true\")\\ #Spark chooses datatypes\n",
    "    .load(\"/databricks-datasets/samples/population-vs-price/data_geo.csv\")"
   ]
  },
  {
   "cell_type": "code",
   "execution_count": 0,
   "metadata": {
    "application/vnd.databricks.v1+cell": {
     "cellMetadata": {
      "byteLimit": 2048000,
      "rowLimit": 10000
     },
     "inputWidgets": {},
     "nuid": "0d8d03c1-ae6d-4039-8a46-82369b8e6e29",
     "showTitle": false,
     "title": ""
    }
   },
   "outputs": [
    {
     "output_type": "stream",
     "name": "stdout",
     "output_type": "stream",
     "text": [
      "Out[7]: 294"
     ]
    }
   ],
   "source": [
    "data.count()"
   ]
  },
  {
   "cell_type": "code",
   "execution_count": 0,
   "metadata": {
    "application/vnd.databricks.v1+cell": {
     "cellMetadata": {
      "byteLimit": 2048000,
      "rowLimit": 10000
     },
     "inputWidgets": {},
     "nuid": "add3cc34-5a45-4594-9dd3-24a3f5dce9c7",
     "showTitle": false,
     "title": ""
    }
   },
   "outputs": [
    {
     "output_type": "stream",
     "name": "stdout",
     "output_type": "stream",
     "text": [
      "Out[8]: 109"
     ]
    }
   ],
   "source": [
    "data.cache()\n",
    "data = data.dropna()\n",
    "data.count()"
   ]
  },
  {
   "cell_type": "code",
   "execution_count": 0,
   "metadata": {
    "application/vnd.databricks.v1+cell": {
     "cellMetadata": {
      "byteLimit": 2048000,
      "rowLimit": 10000
     },
     "inputWidgets": {},
     "nuid": "7e554167-c264-4c19-9c54-e5aa753594b1",
     "showTitle": false,
     "title": ""
    }
   },
   "outputs": [
    {
     "output_type": "display_data",
     "data": {
      "text/html": [
       "<style scoped>\n",
       "  .table-result-container {\n",
       "    max-height: 300px;\n",
       "    overflow: auto;\n",
       "  }\n",
       "  table, th, td {\n",
       "    border: 1px solid black;\n",
       "    border-collapse: collapse;\n",
       "  }\n",
       "  th, td {\n",
       "    padding: 5px;\n",
       "  }\n",
       "  th {\n",
       "    text-align: left;\n",
       "  }\n",
       "</style><div class='table-result-container'><table class='table-result'><thead style='background-color: white'><tr><th>2014 rank</th><th>City</th><th>State</th><th>State Code</th><th>2014 Population estimate</th><th>2015 median sales price</th></tr></thead><tbody><tr><td>101</td><td>Birmingham</td><td>Alabama</td><td>AL</td><td>212247</td><td>162.9</td></tr><tr><td>125</td><td>Huntsville</td><td>Alabama</td><td>AL</td><td>188226</td><td>157.7</td></tr><tr><td>122</td><td>Mobile</td><td>Alabama</td><td>AL</td><td>194675</td><td>122.5</td></tr><tr><td>114</td><td>Montgomery</td><td>Alabama</td><td>AL</td><td>200481</td><td>129.0</td></tr><tr><td>6</td><td>Phoenix</td><td>Arizona</td><td>AZ</td><td>1537058</td><td>206.1</td></tr><tr><td>33</td><td>Tucson</td><td>Arizona</td><td>AZ</td><td>527972</td><td>178.1</td></tr><tr><td>119</td><td>Little Rock</td><td>Arkansas</td><td>AR</td><td>197706</td><td>131.8</td></tr><tr><td>56</td><td>Anaheim</td><td>California</td><td>CA</td><td>346997</td><td>685.7</td></tr><tr><td>2</td><td>Los Angeles</td><td>California</td><td>CA</td><td>3928864</td><td>434.7</td></tr><tr><td>59</td><td>Riverside</td><td>California</td><td>CA</td><td>319504</td><td>281.0</td></tr></tbody></table></div>"
      ]
     },
     "metadata": {
      "application/vnd.databricks.v1+output": {
       "addedWidgets": {},
       "aggData": [],
       "aggError": "",
       "aggOverflow": false,
       "aggSchema": [],
       "aggSeriesLimitReached": false,
       "aggType": "",
       "arguments": {},
       "columnCustomDisplayInfos": {},
       "data": [
        [
         101,
         "Birmingham",
         "Alabama",
         "AL",
         212247,
         162.9
        ],
        [
         125,
         "Huntsville",
         "Alabama",
         "AL",
         188226,
         157.7
        ],
        [
         122,
         "Mobile",
         "Alabama",
         "AL",
         194675,
         122.5
        ],
        [
         114,
         "Montgomery",
         "Alabama",
         "AL",
         200481,
         129.0
        ],
        [
         6,
         "Phoenix",
         "Arizona",
         "AZ",
         1537058,
         206.1
        ],
        [
         33,
         "Tucson",
         "Arizona",
         "AZ",
         527972,
         178.1
        ],
        [
         119,
         "Little Rock",
         "Arkansas",
         "AR",
         197706,
         131.8
        ],
        [
         56,
         "Anaheim",
         "California",
         "CA",
         346997,
         685.7
        ],
        [
         2,
         "Los Angeles",
         "California",
         "CA",
         3928864,
         434.7
        ],
        [
         59,
         "Riverside",
         "California",
         "CA",
         319504,
         281.0
        ]
       ],
       "datasetInfos": [],
       "dbfsResultPath": null,
       "isJsonSchema": true,
       "metadata": {},
       "overflow": false,
       "plotOptions": {
        "customPlotOptions": {},
        "displayType": "table",
        "pivotAggregation": null,
        "pivotColumns": null,
        "xColumns": null,
        "yColumns": null
       },
       "removedWidgets": [],
       "schema": [
        {
         "metadata": "{}",
         "name": "2014 rank",
         "type": "\"long\""
        },
        {
         "metadata": "{}",
         "name": "City",
         "type": "\"string\""
        },
        {
         "metadata": "{}",
         "name": "State",
         "type": "\"string\""
        },
        {
         "metadata": "{}",
         "name": "State Code",
         "type": "\"string\""
        },
        {
         "metadata": "{}",
         "name": "2014 Population estimate",
         "type": "\"long\""
        },
        {
         "metadata": "{}",
         "name": "2015 median sales price",
         "type": "\"double\""
        }
       ],
       "type": "table"
      }
     },
     "output_type": "display_data"
    }
   ],
   "source": [
    "display(data.take(10)) #display is only for testing"
   ]
  },
  {
   "cell_type": "code",
   "execution_count": 0,
   "metadata": {
    "application/vnd.databricks.v1+cell": {
     "cellMetadata": {
      "byteLimit": 2048000,
      "rowLimit": 10000
     },
     "inputWidgets": {},
     "nuid": "04447f67-6a42-42db-92b5-25b19ae6600e",
     "showTitle": false,
     "title": ""
    }
   },
   "outputs": [
    {
     "output_type": "stream",
     "name": "stdout",
     "output_type": "stream",
     "text": [
      "+-----------+-----------------------+\n|      State|2015 median sales price|\n+-----------+-----------------------+\n|    Alabama|                  162.9|\n|    Alabama|                  157.7|\n|    Alabama|                  122.5|\n|    Alabama|                  129.0|\n|    Arizona|                  206.1|\n|    Arizona|                  178.1|\n|   Arkansas|                  131.8|\n| California|                  685.7|\n| California|                  434.7|\n| California|                  281.0|\n| California|                  275.8|\n| California|                  510.3|\n| California|                  748.3|\n| California|                  900.0|\n|   Colorado|                  442.2|\n|   Colorado|                  220.1|\n|   Colorado|                  338.1|\n|Connecticut|                  342.7|\n|Connecticut|                  202.6|\n|Connecticut|                  205.1|\n+-----------+-----------------------+\nonly showing top 20 rows\n\n"
     ]
    }
   ],
   "source": [
    "data2 = data.select(\"State\", \"2015 median sales price\")\n",
    "data2.show()"
   ]
  },
  {
   "cell_type": "code",
   "execution_count": 0,
   "metadata": {
    "application/vnd.databricks.v1+cell": {
     "cellMetadata": {
      "byteLimit": 2048000,
      "rowLimit": 10000
     },
     "inputWidgets": {},
     "nuid": "33b37e23-0171-485c-8575-501fa34ad0c4",
     "showTitle": false,
     "title": ""
    }
   },
   "outputs": [
    {
     "output_type": "stream",
     "name": "stdout",
     "output_type": "stream",
     "text": [
      "+-----------------+-----------+\n|             City|Total_Sales|\n+-----------------+-----------+\n|        Worcester|      226.9|\n|      Springfield|      415.6|\n|          Phoenix|      206.1|\n|      Honolulu[2]|      699.3|\n|          Anaheim|      685.7|\n|       Manchester|      237.4|\n|          Raleigh|      218.9|\n|      Los Angeles|      434.7|\n|       Sacramento|      275.8|\n|        San Diego|      510.3|\n|       Houston[7]|      200.3|\n|         Portland|      289.4|\n|       Bridgeport|      342.7|\n|San Francisco[10]|      748.3|\n|          Boulder|      442.2|\n|           Austin|      249.1|\n|     Richmond[15]|      212.5|\n|          Madison|      226.2|\n|           Newark|      350.8|\n|   Washington[13]|      367.8|\n+-----------------+-----------+\nonly showing top 20 rows\n\n"
     ]
    }
   ],
   "source": [
    "from pyspark.sql import functions as F\n",
    "# Grouping by City and summing the sales\n",
    "sum_sales_by_city = data.groupBy(\"City\") \\\n",
    "                        .agg(F.sum(\"2015 median sales price\").alias(\"Total_Sales\"))\\\n",
    "                        .filter(F.col(\"Total_Sales\") > 200)\n",
    "\n",
    "\n",
    "sum_sales_by_city.show()"
   ]
  },
  {
   "cell_type": "code",
   "execution_count": 0,
   "metadata": {
    "application/vnd.databricks.v1+cell": {
     "cellMetadata": {
      "byteLimit": 2048000,
      "rowLimit": 10000
     },
     "inputWidgets": {},
     "nuid": "2ed0d471-289f-48c9-9e54-02a162f6eb94",
     "showTitle": false,
     "title": ""
    }
   },
   "outputs": [
    {
     "output_type": "display_data",
     "data": {
      "text/html": [
       "<style scoped>\n",
       "  .table-result-container {\n",
       "    max-height: 300px;\n",
       "    overflow: auto;\n",
       "  }\n",
       "  table, th, td {\n",
       "    border: 1px solid black;\n",
       "    border-collapse: collapse;\n",
       "  }\n",
       "  th, td {\n",
       "    padding: 5px;\n",
       "  }\n",
       "  th {\n",
       "    text-align: left;\n",
       "  }\n",
       "</style><div class='table-result-container'><table class='table-result'><thead style='background-color: white'><tr><th>City</th><th>Total_Sales</th></tr></thead><tbody><tr><td>Worcester</td><td>226.9</td></tr><tr><td>Springfield</td><td>415.6</td></tr><tr><td>Phoenix</td><td>206.1</td></tr><tr><td>Honolulu[2]</td><td>699.3</td></tr><tr><td>Anaheim</td><td>685.7</td></tr><tr><td>Manchester</td><td>237.4</td></tr><tr><td>Raleigh</td><td>218.9</td></tr><tr><td>Los Angeles</td><td>434.7</td></tr><tr><td>Sacramento</td><td>275.8</td></tr><tr><td>San Diego</td><td>510.3</td></tr><tr><td>Houston[7]</td><td>200.3</td></tr><tr><td>Portland</td><td>289.4</td></tr><tr><td>Bridgeport</td><td>342.7</td></tr><tr><td>San Francisco[10]</td><td>748.3</td></tr><tr><td>Boulder</td><td>442.2</td></tr><tr><td>Austin</td><td>249.1</td></tr><tr><td>Richmond[15]</td><td>212.5</td></tr><tr><td>Madison</td><td>226.2</td></tr><tr><td>Newark</td><td>350.8</td></tr><tr><td>Washington[13]</td><td>367.8</td></tr><tr><td>Denver[12]</td><td>338.1</td></tr><tr><td>Reno</td><td>268.7</td></tr><tr><td>Las Vegas</td><td>205.9</td></tr><tr><td>Seattle</td><td>352.4</td></tr><tr><td>New Haven</td><td>205.1</td></tr><tr><td>San Jose</td><td>900.0</td></tr><tr><td>Baltimore[15]</td><td>223.1</td></tr><tr><td>Colorado Springs</td><td>220.1</td></tr><tr><td>Hartford</td><td>202.6</td></tr><tr><td>Riverside</td><td>281.0</td></tr><tr><td>Cape Coral</td><td>208.0</td></tr><tr><td>Minneapolis</td><td>209.4</td></tr><tr><td>New York[6]</td><td>388.6</td></tr><tr><td>Providence</td><td>233.3</td></tr><tr><td>Philadelphia[8]</td><td>204.9</td></tr><tr><td>Miami</td><td>269.1</td></tr><tr><td>Salt Lake City</td><td>243.3</td></tr><tr><td>Eugene</td><td>211.3</td></tr><tr><td>Boston</td><td>374.6</td></tr></tbody></table></div>"
      ]
     },
     "metadata": {
      "application/vnd.databricks.v1+output": {
       "addedWidgets": {},
       "aggData": [],
       "aggError": "",
       "aggOverflow": false,
       "aggSchema": [],
       "aggSeriesLimitReached": false,
       "aggType": "",
       "arguments": {},
       "columnCustomDisplayInfos": {},
       "data": [
        [
         "Worcester",
         226.9
        ],
        [
         "Springfield",
         415.6
        ],
        [
         "Phoenix",
         206.1
        ],
        [
         "Honolulu[2]",
         699.3
        ],
        [
         "Anaheim",
         685.7
        ],
        [
         "Manchester",
         237.4
        ],
        [
         "Raleigh",
         218.9
        ],
        [
         "Los Angeles",
         434.7
        ],
        [
         "Sacramento",
         275.8
        ],
        [
         "San Diego",
         510.3
        ],
        [
         "Houston[7]",
         200.3
        ],
        [
         "Portland",
         289.4
        ],
        [
         "Bridgeport",
         342.7
        ],
        [
         "San Francisco[10]",
         748.3
        ],
        [
         "Boulder",
         442.2
        ],
        [
         "Austin",
         249.1
        ],
        [
         "Richmond[15]",
         212.5
        ],
        [
         "Madison",
         226.2
        ],
        [
         "Newark",
         350.8
        ],
        [
         "Washington[13]",
         367.8
        ],
        [
         "Denver[12]",
         338.1
        ],
        [
         "Reno",
         268.7
        ],
        [
         "Las Vegas",
         205.9
        ],
        [
         "Seattle",
         352.4
        ],
        [
         "New Haven",
         205.1
        ],
        [
         "San Jose",
         900.0
        ],
        [
         "Baltimore[15]",
         223.1
        ],
        [
         "Colorado Springs",
         220.1
        ],
        [
         "Hartford",
         202.6
        ],
        [
         "Riverside",
         281.0
        ],
        [
         "Cape Coral",
         208.0
        ],
        [
         "Minneapolis",
         209.4
        ],
        [
         "New York[6]",
         388.6
        ],
        [
         "Providence",
         233.3
        ],
        [
         "Philadelphia[8]",
         204.9
        ],
        [
         "Miami",
         269.1
        ],
        [
         "Salt Lake City",
         243.3
        ],
        [
         "Eugene",
         211.3
        ],
        [
         "Boston",
         374.6
        ]
       ],
       "datasetInfos": [],
       "dbfsResultPath": null,
       "isJsonSchema": true,
       "metadata": {},
       "overflow": false,
       "plotOptions": {
        "customPlotOptions": {},
        "displayType": "table",
        "pivotAggregation": null,
        "pivotColumns": null,
        "xColumns": null,
        "yColumns": null
       },
       "removedWidgets": [],
       "schema": [
        {
         "metadata": "{}",
         "name": "City",
         "type": "\"string\""
        },
        {
         "metadata": "{}",
         "name": "Total_Sales",
         "type": "\"double\""
        }
       ],
       "type": "table"
      }
     },
     "output_type": "display_data"
    },
    {
     "output_type": "display_data",
     "data": {
      "text/plain": [
       "Databricks visualization. Run in Databricks to view."
      ]
     },
     "metadata": {
      "application/vnd.databricks.v1.subcommand+json": {
       "baseErrorDetails": null,
       "bindings": {},
       "collapsed": false,
       "command": "%python\n__backend_agg_display_orig = display\n__backend_agg_dfs = []\ndef __backend_agg_display_new(df):\n    __backend_agg_df_modules = [\"pandas.core.frame\", \"databricks.koalas.frame\", \"pyspark.sql.dataframe\", \"pyspark.pandas.frame\", \"pyspark.sql.connect.dataframe\"]\n    if (type(df).__module__ in __backend_agg_df_modules and type(df).__name__ == 'DataFrame') or isinstance(df, list):\n        __backend_agg_dfs.append(df)\n\ndisplay = __backend_agg_display_new\n\ndef __backend_agg_user_code_fn():\n    import base64\n    exec(base64.standard_b64decode(\"ZGlzcGxheShzdW1fc2FsZXNfYnlfY2l0eSk=\").decode())\n\ntry:\n    # run user code\n    __backend_agg_user_code_fn()\n\n    #reset display function\n    display = __backend_agg_display_orig\n\n    if len(__backend_agg_dfs) > 0:\n        # create a temp view\n        if type(__backend_agg_dfs[0]).__module__ == \"databricks.koalas.frame\":\n            # koalas dataframe\n            __backend_agg_dfs[0].to_spark().createOrReplaceTempView(\"DatabricksView98f71fe\")\n        elif type(__backend_agg_dfs[0]).__module__ == \"pandas.core.frame\" or isinstance(__backend_agg_dfs[0], list):\n            # pandas dataframe\n            spark.createDataFrame(__backend_agg_dfs[0]).createOrReplaceTempView(\"DatabricksView98f71fe\")\n        else:\n            __backend_agg_dfs[0].createOrReplaceTempView(\"DatabricksView98f71fe\")\n        #run backend agg\n        display(spark.sql(\"\"\"WITH q AS (select * from DatabricksView98f71fe) SELECT `City`,SUM(`Total_Sales`) `column_b141e28610` FROM q GROUP BY `City`\"\"\"))\n    else:\n        displayHTML(\"dataframe no longer exists. If you're using dataframe.display(), use display(dataframe) instead.\")\n\n\nfinally:\n    spark.sql(\"drop view if exists DatabricksView98f71fe\")\n    display = __backend_agg_display_orig\n    del __backend_agg_display_new\n    del __backend_agg_display_orig\n    del __backend_agg_dfs\n    del __backend_agg_user_code_fn\n\n",
       "commandTitle": "Visualization 1",
       "commandType": "auto",
       "commandVersion": 0,
       "commentThread": [],
       "commentsVisible": false,
       "contentSha256Hex": null,
       "customPlotOptions": {
        "redashChart": [
         {
          "key": "type",
          "value": "CHART"
         },
         {
          "key": "options",
          "value": {
           "alignYAxesAtZero": true,
           "coefficient": 1,
           "columnConfigurationMap": {
            "x": {
             "column": "City",
             "id": "column_b141e28612"
            },
            "y": [
             {
              "column": "Total_Sales",
              "id": "column_b141e28610",
              "transform": "SUM"
             }
            ]
           },
           "dateTimeFormat": "DD/MM/YYYY HH:mm",
           "direction": {
            "type": "counterclockwise"
           },
           "error_y": {
            "type": "data",
            "visible": true
           },
           "globalSeriesType": "pie",
           "isAggregationOn": true,
           "legend": {
            "traceorder": "normal"
           },
           "missingValuesAsZero": true,
           "numBins": 10,
           "numberFormat": "0,0.[00000]",
           "percentFormat": "0[.]00%",
           "series": {
            "error_y": {
             "type": "data",
             "visible": true
            },
            "stacking": null
           },
           "seriesOptions": {
            "column_b141e28610": {
             "type": "pie",
             "yAxis": 0
            },
            "column_b141e2866": {
             "name": "Total_Sales",
             "type": "pie",
             "yAxis": 0
            }
           },
           "showDataLabels": true,
           "sizemode": "diameter",
           "sortX": true,
           "sortY": true,
           "swappedAxes": false,
           "textFormat": "",
           "useAggregationsUi": true,
           "valuesOptions": {},
           "version": 2,
           "xAxis": {
            "labels": {
             "enabled": true
            },
            "type": "-"
           },
           "yAxis": [
            {
             "type": "-"
            },
            {
             "opposite": true,
             "type": "-"
            }
           ]
          }
         }
        ]
       },
       "datasetPreviewNameToCmdIdMap": {},
       "diffDeletes": [],
       "diffInserts": [],
       "displayType": "redashChart",
       "error": null,
       "errorDetails": null,
       "errorSummary": null,
       "errorTraceType": null,
       "finishTime": 0,
       "globalVars": {},
       "guid": "",
       "height": "auto",
       "hideCommandCode": false,
       "hideCommandResult": false,
       "iPythonMetadata": null,
       "inputWidgets": {},
       "isLockedInExamMode": false,
       "latestUser": "a user",
       "latestUserId": null,
       "listResultMetadata": null,
       "metadata": {},
       "nuid": "55c233a1-f69d-4a8d-8ff6-e002b1f7a0e6",
       "origId": 0,
       "parentHierarchy": [],
       "pivotAggregation": null,
       "pivotColumns": null,
       "position": 10.25,
       "resultDbfsErrorMessage": null,
       "resultDbfsStatus": "INLINED_IN_TREE",
       "results": null,
       "showCommandTitle": false,
       "startTime": 0,
       "state": "input",
       "streamStates": {},
       "subcommandOptions": {
        "queryPlan": {
         "groups": [
          {
           "column": "City",
           "type": "column"
          }
         ],
         "selects": [
          {
           "column": "City",
           "type": "column"
          },
          {
           "alias": "column_b141e28610",
           "args": [
            {
             "column": "Total_Sales",
             "type": "column"
            }
           ],
           "function": "SUM",
           "type": "function"
          }
         ]
        }
       },
       "submitTime": 0,
       "subtype": "tableResultSubCmd.visualization",
       "tableResultIndex": 0,
       "useConsistentColors": false,
       "version": "CommandV1",
       "width": "auto",
       "workflows": [],
       "xColumns": null,
       "yColumns": null
      }
     },
     "output_type": "display_data"
    },
    {
     "output_type": "display_data",
     "data": {
      "text/plain": [
       "Databricks visualization. Run in Databricks to view."
      ]
     },
     "metadata": {
      "application/vnd.databricks.v1.subcommand+json": {
       "baseErrorDetails": null,
       "bindings": {},
       "collapsed": false,
       "command": "%python\n__backend_agg_display_orig = display\n__backend_agg_dfs = []\ndef __backend_agg_display_new(df):\n    __backend_agg_df_modules = [\"pandas.core.frame\", \"databricks.koalas.frame\", \"pyspark.sql.dataframe\", \"pyspark.pandas.frame\", \"pyspark.sql.connect.dataframe\"]\n    if (type(df).__module__ in __backend_agg_df_modules and type(df).__name__ == 'DataFrame') or isinstance(df, list):\n        __backend_agg_dfs.append(df)\n\ndisplay = __backend_agg_display_new\n\ndef __backend_agg_user_code_fn():\n    import base64\n    exec(base64.standard_b64decode(\"ZGlzcGxheShzdW1fc2FsZXNfYnlfY2l0eSk=\").decode())\n\ntry:\n    # run user code\n    __backend_agg_user_code_fn()\n\n    #reset display function\n    display = __backend_agg_display_orig\n\n    if len(__backend_agg_dfs) > 0:\n        # create a temp view\n        if type(__backend_agg_dfs[0]).__module__ == \"databricks.koalas.frame\":\n            # koalas dataframe\n            __backend_agg_dfs[0].to_spark().createOrReplaceTempView(\"DatabricksView2acf210\")\n        elif type(__backend_agg_dfs[0]).__module__ == \"pandas.core.frame\" or isinstance(__backend_agg_dfs[0], list):\n            # pandas dataframe\n            spark.createDataFrame(__backend_agg_dfs[0]).createOrReplaceTempView(\"DatabricksView2acf210\")\n        else:\n            __backend_agg_dfs[0].createOrReplaceTempView(\"DatabricksView2acf210\")\n        #run backend agg\n        display(spark.sql(\"\"\"WITH q AS (select * from DatabricksView2acf210) SELECT `City`,SUM(`Total_Sales`) `column_b141e28615` FROM q GROUP BY `City`\"\"\"))\n    else:\n        displayHTML(\"dataframe no longer exists. If you're using dataframe.display(), use display(dataframe) instead.\")\n\n\nfinally:\n    spark.sql(\"drop view if exists DatabricksView2acf210\")\n    display = __backend_agg_display_orig\n    del __backend_agg_display_new\n    del __backend_agg_display_orig\n    del __backend_agg_dfs\n    del __backend_agg_user_code_fn\n\n",
       "commandTitle": "Visualization 2",
       "commandType": "auto",
       "commandVersion": 0,
       "commentThread": [],
       "commentsVisible": false,
       "contentSha256Hex": null,
       "customPlotOptions": {
        "redashChart": [
         {
          "key": "type",
          "value": "CHART"
         },
         {
          "key": "options",
          "value": {
           "alignYAxesAtZero": true,
           "coefficient": 1,
           "columnConfigurationMap": {
            "x": {
             "column": "City",
             "id": "column_b141e28614"
            },
            "y": [
             {
              "column": "Total_Sales",
              "id": "column_b141e28615",
              "transform": "SUM"
             }
            ]
           },
           "dateTimeFormat": "DD/MM/YYYY HH:mm",
           "direction": {
            "type": "counterclockwise"
           },
           "error_y": {
            "type": "data",
            "visible": true
           },
           "globalSeriesType": "column",
           "isAggregationOn": true,
           "legend": {
            "traceorder": "normal"
           },
           "missingValuesAsZero": true,
           "numberFormat": "0,0.[00000]",
           "percentFormat": "0[.]00%",
           "series": {
            "error_y": {
             "type": "data",
             "visible": true
            },
            "stacking": null
           },
           "seriesOptions": {
            "column_b141e28615": {
             "color": null,
             "name": "Total_Sales",
             "yAxis": 0
            }
           },
           "showDataLabels": false,
           "sizemode": "diameter",
           "sortX": true,
           "sortY": true,
           "swappedAxes": true,
           "textFormat": "",
           "useAggregationsUi": true,
           "valuesOptions": {},
           "version": 2,
           "xAxis": {
            "labels": {
             "enabled": true
            },
            "type": "-"
           },
           "yAxis": [
            {
             "type": "-"
            },
            {
             "opposite": true,
             "type": "-"
            }
           ]
          }
         }
        ]
       },
       "datasetPreviewNameToCmdIdMap": {},
       "diffDeletes": [],
       "diffInserts": [],
       "displayType": "redashChart",
       "error": null,
       "errorDetails": null,
       "errorSummary": null,
       "errorTraceType": null,
       "finishTime": 0,
       "globalVars": {},
       "guid": "",
       "height": "auto",
       "hideCommandCode": false,
       "hideCommandResult": false,
       "iPythonMetadata": null,
       "inputWidgets": {},
       "isLockedInExamMode": false,
       "latestUser": "a user",
       "latestUserId": null,
       "listResultMetadata": null,
       "metadata": {},
       "nuid": "ca7e8258-b4b0-4b2b-bccf-2a5c6e3d5d7d",
       "origId": 0,
       "parentHierarchy": [],
       "pivotAggregation": null,
       "pivotColumns": null,
       "position": 11.25,
       "resultDbfsErrorMessage": null,
       "resultDbfsStatus": "INLINED_IN_TREE",
       "results": null,
       "showCommandTitle": false,
       "startTime": 0,
       "state": "input",
       "streamStates": {},
       "subcommandOptions": {
        "queryPlan": {
         "groups": [
          {
           "column": "City",
           "type": "column"
          }
         ],
         "selects": [
          {
           "column": "City",
           "type": "column"
          },
          {
           "alias": "column_b141e28615",
           "args": [
            {
             "column": "Total_Sales",
             "type": "column"
            }
           ],
           "function": "SUM",
           "type": "function"
          }
         ]
        }
       },
       "submitTime": 0,
       "subtype": "tableResultSubCmd.visualization",
       "tableResultIndex": 0,
       "useConsistentColors": false,
       "version": "CommandV1",
       "width": "auto",
       "workflows": [],
       "xColumns": null,
       "yColumns": null
      }
     },
     "output_type": "display_data"
    }
   ],
   "source": [
    "display(sum_sales_by_city)"
   ]
  },
  {
   "cell_type": "code",
   "execution_count": 0,
   "metadata": {
    "application/vnd.databricks.v1+cell": {
     "cellMetadata": {},
     "inputWidgets": {},
     "nuid": "56838513-0ee3-47be-8674-cab13f39190d",
     "showTitle": false,
     "title": ""
    }
   },
   "outputs": [],
   "source": []
  }
 ],
 "metadata": {
  "application/vnd.databricks.v1+notebook": {
   "dashboards": [],
   "language": "python",
   "notebookMetadata": {
    "mostRecentlyExecutedCommandWithImplicitDF": {
     "commandId": 1670678674487018,
     "dataframes": [
      "_sqldf"
     ]
    },
    "pythonIndentUnit": 4
   },
   "notebookName": "1",
   "widgets": {}
  }
 },
 "nbformat": 4,
 "nbformat_minor": 0
}
